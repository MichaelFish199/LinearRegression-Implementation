{
 "cells": [
  {
   "cell_type": "markdown",
   "id": "eb129fd6",
   "metadata": {},
   "source": [
    "This is two variable linear regresion using gradient descent using linear algebra"
   ]
  },
  {
   "cell_type": "code",
   "execution_count": 1,
   "id": "f5d5b4b8",
   "metadata": {},
   "outputs": [],
   "source": [
    "# Numpy for random points\n",
    "import numpy as np\n",
    "\n",
    "# Matplotlib for plotting\n",
    "import matplotlib.pyplot as plt"
   ]
  },
  {
   "cell_type": "code",
   "execution_count": 2,
   "id": "e6be33c0",
   "metadata": {},
   "outputs": [],
   "source": [
    "# Creating random datapoints\n",
    "X = np.array([i + np.random.randint(7) for i in range(13)]) # creating random points with some noise\n",
    "Y = np.array([i + np.random.randint(10) for i in range(13)]) # creating random points with some noise"
   ]
  },
  {
   "cell_type": "code",
   "execution_count": 5,
   "id": "9bcc147d",
   "metadata": {},
   "outputs": [],
   "source": [
    "# Algorythm variables\n",
    "n = float(len(X))\n",
    "\n",
    "b = 0 # initial guess of intercept\n",
    "m = 0 # initial guess of slope\n",
    "\n",
    "a = 0.001 # learning rate\n",
    "epochs = 1000 # num of iteration"
   ]
  },
  {
   "cell_type": "code",
   "execution_count": 6,
   "id": "aa0f8b87",
   "metadata": {},
   "outputs": [],
   "source": [
    "# Algorythm\n",
    "for _ in range(epochs):\n",
    "    # Predictions\n",
    "    Y_pred = m * X + b\n",
    "    \n",
    "    # Calculating derivarives\n",
    "    D_m = (-2/n) * sum(X * (Y - Y_pred))\n",
    "    D_b = (-2/n) * sum(Y - Y_pred)\n",
    "    \n",
    "    # Updating values # kinda incorrect approach\n",
    "    m -= a * D_m\n",
    "    b -= a * D_b"
   ]
  },
  {
   "cell_type": "code",
   "execution_count": 7,
   "id": "fe06902f",
   "metadata": {},
   "outputs": [],
   "source": [
    "# Prediction\n",
    "Y_pred = m * X + b"
   ]
  },
  {
   "cell_type": "code",
   "execution_count": 8,
   "id": "1d709590",
   "metadata": {},
   "outputs": [
    {
     "data": {
      "image/png": "[encoded data removed]",
      "text/plain": [
       "<Figure size 432x288 with 1 Axes>"
      ]
     },
     "metadata": {
      "needs_background": "light"
     },
     "output_type": "display_data"
    }
   ],
   "source": [
    "# Plotting datapoints and regresion line\n",
    "plt.scatter(X, Y)\n",
    "plt.plot(X, Y_pred)\n",
    "plt.show()"
   ]
  },
  {
   "cell_type": "code",
   "execution_count": null,
   "id": "62d7b917",
   "metadata": {},
   "outputs": [],
   "source": []
  }
 ],
 "metadata": {
  "kernelspec": {
   "display_name": "Python 3 (ipykernel)",
   "language": "python",
   "name": "python3"
  },
  "language_info": {
   "codemirror_mode": {
    "name": "ipython",
    "version": 3
   },
   "file_extension": ".py",
   "mimetype": "text/x-python",
   "name": "python",
   "nbconvert_exporter": "python",
   "pygments_lexer": "ipython3",
   "version": "3.9.12"
  }
 },
 "nbformat": 4,
 "nbformat_minor": 5
}
