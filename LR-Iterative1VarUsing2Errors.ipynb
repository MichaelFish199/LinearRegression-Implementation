{
 "cells": [
  {
   "cell_type": "markdown",
   "id": "e296f7f6",
   "metadata": {},
   "source": [
    "This is one variable linear regresion using 2 errors to check which one is closer to the optimum value"
   ]
  },
  {
   "cell_type": "code",
   "execution_count": 1,
   "id": "191c71ee",
   "metadata": {},
   "outputs": [],
   "source": [
    "# Numpy for random points\n",
    "import numpy as np\n",
    "\n",
    "# Metplotlib for plotting line\n",
    "import matplotlib.pyplot as plt"
   ]
  },
  {
   "cell_type": "code",
   "execution_count": 2,
   "id": "c5d995dd",
   "metadata": {},
   "outputs": [],
   "source": [
    "# Creating random points\n",
    "x = np.array([i + np.random.randint(3) for i in range(13)])  # creating random points with some noise\n",
    "y = np.array([i + np.random.randint(4) for i in range(13)])  # creating random points with some noise"
   ]
  },
  {
   "cell_type": "code",
   "execution_count": 3,
   "id": "6c7862b1",
   "metadata": {},
   "outputs": [],
   "source": [
    "# Algorythm inicial variables\n",
    "b = 0  # knowned\n",
    "m = 1.75  # initial guess"
   ]
  },
  {
   "cell_type": "code",
   "execution_count": 4,
   "id": "fc880c2f",
   "metadata": {},
   "outputs": [],
   "source": [
    "# Algorythm\n",
    "for _ in range(1000):\n",
    "    error1 = 0\n",
    "    error2 = 0\n",
    "\n",
    "    for x_, y_ in zip(x, y):\n",
    "        error1 += ((b + x_ * m) - y_) ** 2\n",
    "\n",
    "    m -= 0.001\n",
    "    for x_, y_ in zip(x, y):\n",
    "        error2 += ((b + x_ * m) - y_) ** 2\n",
    "\n",
    "    if error1 > error2:\n",
    "        m -= 0.03\n",
    "    else:\n",
    "        m += 0.03"
   ]
  },
  {
   "cell_type": "code",
   "execution_count": null,
   "id": "63e5b95c",
   "metadata": {},
   "outputs": [],
   "source": [
    "# Some random points for ploting\n",
    "z = np.array(list(range(len(x))))  "
   ]
  },
  {
   "cell_type": "code",
   "execution_count": 5,
   "id": "55b4ff4d",
   "metadata": {},
   "outputs": [
    {
     "data": {
      "image/png": "[encoded data removed]",
      "text/plain": [
       "<Figure size 432x288 with 1 Axes>"
      ]
     },
     "metadata": {
      "needs_background": "light"
     },
     "output_type": "display_data"
    }
   ],
   "source": [
    "# Plotting datapoints and line\n",
    "plt.grid()  # sometimes line doesnt't fit data well.\n",
    "plt.scatter(x, y)  # I guess it has to do smt with noise of data and y_intercept\n",
    "plt.plot((z * m), z)\n",
    "\n",
    "plt.xlabel(\"x\")\n",
    "plt.ylabel(\"y\")\n",
    "plt.show()"
   ]
  },
  {
   "cell_type": "code",
   "execution_count": null,
   "id": "f9e2e8fd",
   "metadata": {},
   "outputs": [],
   "source": []
  }
 ],
 "metadata": {
  "kernelspec": {
   "display_name": "Python 3 (ipykernel)",
   "language": "python",
   "name": "python3"
  },
  "language_info": {
   "codemirror_mode": {
    "name": "ipython",
    "version": 3
   },
   "file_extension": ".py",
   "mimetype": "text/x-python",
   "name": "python",
   "nbconvert_exporter": "python",
   "pygments_lexer": "ipython3",
   "version": "3.9.12"
  }
 },
 "nbformat": 4,
 "nbformat_minor": 5
}
