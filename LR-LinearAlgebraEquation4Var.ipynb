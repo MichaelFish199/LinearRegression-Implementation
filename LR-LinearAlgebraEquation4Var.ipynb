{
 "cells": [
  {
   "cell_type": "markdown",
   "id": "e3615429",
   "metadata": {},
   "source": [
    "This is 4 variable linear regresion using linear algebra equation"
   ]
  },
  {
   "cell_type": "code",
   "execution_count": 2,
   "id": "0e69c490",
   "metadata": {},
   "outputs": [],
   "source": [
    "# Numpy for linear algebra\n",
    "import numpy as np\n",
    "\n",
    "# Matplotlib for plotting\n",
    "import matplotlib.pyplot as plt"
   ]
  },
  {
   "cell_type": "code",
   "execution_count": 3,
   "id": "247324fc",
   "metadata": {
    "collapsed": true
   },
   "outputs": [
    {
     "data": {
      "text/plain": [
       "array([[  2,  25, 503,  19],\n",
       "       [  7,  27, 527,  20],\n",
       "       [  3,  26, 541,  19],\n",
       "       [  5,  31, 566,  16],\n",
       "       [  4,  32, 579,  19],\n",
       "       [  5,  32, 606,  16],\n",
       "       [  8,  35, 616,  19],\n",
       "       [  8,  39, 639,  20],\n",
       "       [ 10,  40, 659,  20],\n",
       "       [  6,  40, 679,  20],\n",
       "       [  5,  43, 698,  25],\n",
       "       [ 10,  47, 717,  22],\n",
       "       [  6,  46, 734,  20],\n",
       "       [  7,  48, 762,  27],\n",
       "       [ 12,  51, 774,  26],\n",
       "       [  8,  52, 795,  24],\n",
       "       [ 13,  55, 815,  28],\n",
       "       [ 11,  58, 834,  25],\n",
       "       [ 10,  61, 861,  24],\n",
       "       [ 16,  61, 882,  29]])"
      ]
     },
     "execution_count": 3,
     "metadata": {},
     "output_type": "execute_result"
    }
   ],
   "source": [
    "# Creating random dataframe/matrix with correlation\n",
    "datapoints = 20\n",
    "\n",
    "# Creating vectors of random points with some noise\n",
    "x = np.array([i + np.random.randint(7) for i in np.linspace(1, 10, datapoints)], dtype='i4')\n",
    "h = np.array([i + np.random.randint(4) for i in np.linspace(23, 60, datapoints)], dtype='i4')\n",
    "g = np.array([i + np.random.randint(13) for i in np.linspace(500, 870, datapoints)], dtype='i4')\n",
    "z = np.array([i + np.random.randint(7) for i in np.linspace(14, 25, datapoints)], dtype='i4')\n",
    "\n",
    "y = np.linspace(1200, 20000, datapoints) # target\n",
    "\n",
    "# Creating matrix\n",
    "X = np.vstack([x,h,g,z]).T\n",
    "X"
   ]
  },
  {
   "cell_type": "code",
   "execution_count": 4,
   "id": "abb402d8",
   "metadata": {},
   "outputs": [
    {
     "data": {
      "text/plain": [
       "array([-99.61820836, 897.14220027, -38.45142016,  -7.23174554])"
      ]
     },
     "execution_count": 4,
     "metadata": {},
     "output_type": "execute_result"
    }
   ],
   "source": [
    "# Algorythm\n",
    "result = np.linalg.inv(X.T @ X) @ X.T @ y\n",
    "result"
   ]
  },
  {
   "cell_type": "code",
   "execution_count": 5,
   "id": "74e34114",
   "metadata": {},
   "outputs": [
    {
     "data": {
      "text/plain": [
       "array([ 2750.85108236,  3116.97861161,  2087.22110804,  5434.10542518,\n",
       "        5909.30213508,  4793.1908189 ,  6779.55335637,  9476.50774815,\n",
       "        9405.38512841,  9034.82955859, 11059.13865697, 13440.73466973,\n",
       "       12302.8546512 , 12870.25886003, 14609.4091226 , 15112.00782396,\n",
       "       16507.38799752, 18689.16926857, 20449.25747886, 19007.90967754])"
      ]
     },
     "execution_count": 5,
     "metadata": {},
     "output_type": "execute_result"
    }
   ],
   "source": [
    "# Results in hyperplane\n",
    "X @ result"
   ]
  }
 ],
 "metadata": {
  "kernelspec": {
   "display_name": "Python 3 (ipykernel)",
   "language": "python",
   "name": "python3"
  },
  "language_info": {
   "codemirror_mode": {
    "name": "ipython",
    "version": 3
   },
   "file_extension": ".py",
   "mimetype": "text/x-python",
   "name": "python",
   "nbconvert_exporter": "python",
   "pygments_lexer": "ipython3",
   "version": "3.9.12"
  }
 },
 "nbformat": 4,
 "nbformat_minor": 5
}
